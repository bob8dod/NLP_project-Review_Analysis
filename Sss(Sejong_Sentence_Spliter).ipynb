{
  "nbformat": 4,
  "nbformat_minor": 0,
  "metadata": {
    "colab": {
      "name": "Sss(Sejong Sentence Spliter).ipynb",
      "provenance": [],
      "authorship_tag": "ABX9TyMmNc7bQ3IEHNQmzMHs+Tjp",
      "include_colab_link": true
    },
    "kernelspec": {
      "name": "python3",
      "display_name": "Python 3"
    },
    "language_info": {
      "name": "python"
    }
  },
  "cells": [
    {
      "cell_type": "markdown",
      "metadata": {
        "id": "view-in-github",
        "colab_type": "text"
      },
      "source": [
        "<a href=\"https://colab.research.google.com/github/bob8dod/NLP_project-Review_Analysis/blob/main/Sss(Sejong_Sentence_Spliter).ipynb\" target=\"_parent\"><img src=\"https://colab.research.google.com/assets/colab-badge.svg\" alt=\"Open In Colab\"/></a>"
      ]
    },
    {
      "cell_type": "markdown",
      "metadata": {
        "id": "sX2YsnIzxSGu"
      },
      "source": [
        "## SSS(Sejong Sentence Spliter)"
      ]
    },
    {
      "cell_type": "markdown",
      "metadata": {
        "id": "wCrfzbJX4saJ"
      },
      "source": [
        "\n",
        "\n",
        "*   **preprocessing + sentence spliting**\n",
        "\n"
      ]
    },
    {
      "cell_type": "code",
      "metadata": {
        "id": "cgwxhGGdzRcf"
      },
      "source": [
        "def sss(text):\n",
        "    text = re.sub('[^0-9a-zA-Z가-힣\\s]',' ', text)\n",
        "    end_char = ['요','다']\n",
        "    avoid_char = ['보다','하려다','하다','려다']\n",
        "\n",
        "    new_sentences = []\n",
        "    ts = text.split()\n",
        "    start = 0\n",
        "    end = 0\n",
        "    for i in range(len(ts)):\n",
        "        if len(ts[i])>=2 and ts[i][-1] in end_char and ts[i][-2:] not in avoid_char:\n",
        "            end = i\n",
        "            new_sentences.append(' '.join(ts[start:end+1]).strip())\n",
        "            start = end+1\n",
        "\n",
        "    return new_sentences"
      ],
      "execution_count": null,
      "outputs": []
    },
    {
      "cell_type": "code",
      "metadata": {
        "colab": {
          "base_uri": "https://localhost:8080/"
        },
        "id": "wlqHps27xrPg",
        "outputId": "76781c63-6987-4f6b-ba6c-7561788509bf"
      },
      "source": [
        "sss('안녕하세요, kss가 너무 오래걸려서 개발 중인 SSS입니다. 사실 이게 뭐 새로 만드는 알고리즘이기보다는 그냥 대강 만들어봤어요 ㅋㅋㅋㅋ 뭐 아무튼 그렇다고요')"
      ],
      "execution_count": null,
      "outputs": [
        {
          "output_type": "execute_result",
          "data": {
            "text/plain": [
              "['안녕하세요',\n",
              " 'kss가 너무 오래걸려서 개발 중인 SSS입니다',\n",
              " '사실 이게 뭐 새로 만드는 알고리즘이기보다는 그냥 대강 만들어봤어요',\n",
              " '뭐 아무튼 그렇다고요']"
            ]
          },
          "metadata": {},
          "execution_count": 73
        }
      ]
    }
  ]
}