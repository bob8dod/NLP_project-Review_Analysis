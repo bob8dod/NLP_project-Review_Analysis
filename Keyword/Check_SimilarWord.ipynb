{
  "nbformat": 4,
  "nbformat_minor": 0,
  "metadata": {
    "colab": {
      "name": "유사어 확인.ipynb",
      "provenance": [],
      "collapsed_sections": [],
      "mount_file_id": "14d7nPQ3iJ4kkNU2Dpz9ZfhiSWZqMNg6K",
      "authorship_tag": "ABX9TyP7s072Ow0wLUPXfI03RaPP",
      "include_colab_link": true
    },
    "kernelspec": {
      "name": "python3",
      "display_name": "Python 3"
    },
    "language_info": {
      "name": "python"
    }
  },
  "cells": [
    {
      "cell_type": "markdown",
      "metadata": {
        "id": "view-in-github",
        "colab_type": "text"
      },
      "source": [
        "<a href=\"https://colab.research.google.com/github/bob8dod/NLP_project-Review_Analysis/blob/main/Keyword/Check_SimilarWord.ipynb\" target=\"_parent\"><img src=\"https://colab.research.google.com/assets/colab-badge.svg\" alt=\"Open In Colab\"/></a>"
      ]
    },
    {
      "cell_type": "code",
      "metadata": {
        "id": "p-AZ8SmhfkY_"
      },
      "source": [
        "from gensim.models import Word2Vec\n",
        "model = Word2Vec.load('/content/drive/MyDrive/Colab Notebooks/NLP개인공부/실행 모델/리뷰모음 및 자료/word2vec_by_okt.model')"
      ],
      "execution_count": 1,
      "outputs": []
    },
    {
      "cell_type": "code",
      "metadata": {
        "colab": {
          "base_uri": "https://localhost:8080/"
        },
        "id": "qoTsseAzgRnw",
        "outputId": "20c24d60-d760-43a3-f07a-abafd20a81c0"
      },
      "source": [
        "words= ['사이즈']\n",
        "for word in words:\n",
        "    try: \n",
        "        result = model.wv.most_similar(word)\n",
        "        print(result)\n",
        "    except KeyError as e:\n",
        "        print('{}라는 단어를 찾을 수 없습니다.'.format(word))"
      ],
      "execution_count": 10,
      "outputs": [
        {
          "output_type": "stream",
          "text": [
            "[('치수', 0.7735768556594849), ('크기', 0.7210700511932373), ('이즈', 0.655242919921875), ('길이', 0.6482425332069397), ('즈', 0.646544873714447), ('센치', 0.6339375376701355), ('스몰', 0.6309698820114136), ('라지', 0.6235160231590271), ('소형', 0.6090760231018066), ('엑스', 0.6055080890655518)]\n"
          ],
          "name": "stdout"
        }
      ]
    }
  ]
}