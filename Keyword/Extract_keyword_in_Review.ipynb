{
  "nbformat": 4,
  "nbformat_minor": 0,
  "metadata": {
    "colab": {
      "name": "리뷰에서 키워드 추출.ipynb",
      "provenance": [],
      "authorship_tag": "ABX9TyOQ5rqRIv03cNcbiDClxj3s",
      "include_colab_link": true
    },
    "kernelspec": {
      "name": "python3",
      "display_name": "Python 3"
    },
    "language_info": {
      "name": "python"
    }
  },
  "cells": [
    {
      "cell_type": "markdown",
      "metadata": {
        "id": "view-in-github",
        "colab_type": "text"
      },
      "source": [
        "<a href=\"https://colab.research.google.com/github/bob8dod/NLP_project-Review_Analysis/blob/main/Keyword/Extract_keyword_in_Review.ipynb\" target=\"_parent\"><img src=\"https://colab.research.google.com/assets/colab-badge.svg\" alt=\"Open In Colab\"/></a>"
      ]
    },
    {
      "cell_type": "markdown",
      "metadata": {
        "id": "4iG066ALh6jq"
      },
      "source": [
        "## 각각의 리뷰의 키워드 추출"
      ]
    },
    {
      "cell_type": "code",
      "metadata": {
        "id": "6qlPbCrEkoui"
      },
      "source": [
        "# data -> review data\n",
        "# word2vec_model -> pretrained word2vec model by mecab"
      ],
      "execution_count": null,
      "outputs": []
    },
    {
      "cell_type": "code",
      "metadata": {
        "id": "3NPuNAAzatqX"
      },
      "source": [
        "# 유사어 추출\n",
        "def make_sim_word():\n",
        "    similar_word = {}\n",
        "    for word in keyword:\n",
        "        try:\n",
        "            similar_word[word] = [w for w, v in word2vec_model.wv.most_similar(word)]\n",
        "        except:\n",
        "            pass\n",
        "    return similar_word"
      ],
      "execution_count": null,
      "outputs": []
    },
    {
      "cell_type": "code",
      "metadata": {
        "id": "Z7GX4BdZaE-5"
      },
      "source": [
        "#기존 리뷰에서의 키워드 추출, 유사어 반영\n",
        "def keyword_in_review(temp_review):\n",
        "    similar_word = make_sim_word()\n",
        "    tokenized_review = mecab.morphs(temp_review)\n",
        "    result_word = []\n",
        "    for word in tokenized_review:\n",
        "        if word in keyword and word not in result_word:\n",
        "            result_word.append(word)\n",
        "        else:\n",
        "            for key, sim_words in similar_word.items():\n",
        "                if word in sim_words and key not in result_word:\n",
        "                    result_word.append(key)\n",
        "    return result_word"
      ],
      "execution_count": null,
      "outputs": []
    },
    {
      "cell_type": "code",
      "metadata": {
        "colab": {
          "base_uri": "https://localhost:8080/"
        },
        "id": "QQlgwmFjgtFF",
        "outputId": "161f5365-33c6-494d-a9af-6736118e83cf"
      },
      "source": [
        "#기존 리뷰에서의 키워드 추출, 유사어 반영\n",
        "# temp_review = '배달속도는 괜찮았는데 제품 자체가 소음이 꽤 심하네요...  그래도 싼값에 구매해고 트러블도 안나서 만족하고 쓸랍니도~'\n",
        "for i in range(3):\n",
        "    temp_review = data.loc[i,'review']\n",
        "    print('선택된 리뷰:', temp_review)\n",
        "    print('키워드: ',keyword_in_review(temp_review))\n",
        "    print()"
      ],
      "execution_count": null,
      "outputs": [
        {
          "output_type": "stream",
          "name": "stdout",
          "text": [
            "선택된 리뷰: 고장 한번없이 날망과 세척 카트리지만 바꿔가면서 18년 썼던 7시리즈가 고장나서 새로 구매했는데 기존 제품보다 클리닝이랑 면도할때 소음이 더 크긴 하지만 신랑이 마음에 들어하네요. 이번 제품도 고장없이 오래 썼으면 좋겠네요. 면도기는 브라운이예요. 고민없이 샀어요. A/S도 추가 1년해서 2년이 되네요. 좋은제품 싸게 잘 샀어요. ^^\n",
            "키워드:  ['시리즈', '면도', '소음', '면도기']\n",
            "\n",
            "선택된 리뷰: 7시리즈 쓰고있는데 오래도 썼지만 고장이 나는 바람에 이번에는 9시리즈로 구매했습니다. 7시리즈랑 뭐 별차이를 모르겠습니다. 다 거기서 거기인듯 ... 더 잘 깍이고 덜 깍이고 그런거는 없는듯 합니다.\n",
            "키워드:  ['시리즈']\n",
            "\n",
            "선택된 리뷰: 기존에 쓰던 필립스(10만원대)보다 소리는 더 크긴한데 뭐 거슬릴정돈 아니고, 피부밀착력은 훨씬 좋아서 잘 잘려나가는 듯 합니다...만 기대했던 것만큼은 아니라 약간 아쉽습니다.\n",
            "키워드:  []\n",
            "\n"
          ]
        }
      ]
    },
    {
      "cell_type": "markdown",
      "metadata": {
        "id": "N8GBY0Qvj7NR"
      },
      "source": [
        "유사어 자체가 잘 반영이 안되있는점 -> 직접 11번가와 쿠팡 데이터를 수집해서 사전 학습된 word2vec 만들기"
      ]
    }
  ]
}