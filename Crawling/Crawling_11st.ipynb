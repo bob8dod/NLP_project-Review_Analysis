{
  "nbformat": 4,
  "nbformat_minor": 0,
  "metadata": {
    "colab": {
      "name": "Crawling_11st.ipynb",
      "provenance": [],
      "collapsed_sections": [],
      "authorship_tag": "ABX9TyNxqsmHNaMfLiyheR2MPlXT",
      "include_colab_link": true
    },
    "kernelspec": {
      "name": "python3",
      "display_name": "Python 3"
    },
    "language_info": {
      "name": "python"
    }
  },
  "cells": [
    {
      "cell_type": "markdown",
      "metadata": {
        "id": "view-in-github",
        "colab_type": "text"
      },
      "source": [
        "<a href=\"https://colab.research.google.com/github/bob8dod/NLP_project-Review_Analysis/blob/main/Crawling/Crawling_11st.ipynb\" target=\"_parent\"><img src=\"https://colab.research.google.com/assets/colab-badge.svg\" alt=\"Open In Colab\"/></a>"
      ]
    },
    {
      "cell_type": "markdown",
      "metadata": {
        "id": "JE-iwZHrIxKq"
      },
      "source": [
        "## 크롤링(11번가)"
      ]
    },
    {
      "cell_type": "code",
      "metadata": {
        "id": "deqeca1JGyot",
        "colab": {
          "base_uri": "https://localhost:8080/"
        },
        "outputId": "57041f36-de15-45ea-c600-0851d3014f00"
      },
      "source": [
        "import json\n",
        "import re\n",
        "from urllib.request import urlopen\n",
        "import requests\n",
        "from bs4 import BeautifulSoup\n",
        "import time\n",
        "from multiprocessing import Pool, Manager\n",
        "\n",
        "\n",
        "headers = {'User-Agent': 'Mozilla/5.0 (Windows NT 10.0; Win64; x64) AppleWebKit/537.36 (KHTML, like Gecko) Chrome/92.0.4515.159 Safari/537.36'}\n",
        "products = 2777504082\n",
        "\n",
        "url_basic = 'https://www.11st.co.kr/products/{}'.format(products)\n",
        "data = requests.get(url_basic, headers=headers)\n",
        "soup = BeautifulSoup(data.text, 'html.parser')\n",
        "\n",
        "category_path = soup.find('div', attrs={'class':'c_product_category_path'}).find_all('em', attrs={'class':'selected'})\n",
        "categories = set()\n",
        "for cate in category_path:\n",
        "    categories.add(cate.text)\n",
        "product_name = soup.find('h1', attrs={'class':'title'}).text.strip()\n",
        "img_src = soup.find('div', attrs={'class':'img_full'}).find('img')['src']\n",
        "price = soup.find('ul', attrs={'class':'price_wrap'}).find('span',attrs={'class':'value'}).text\n",
        "review_len = soup.find('strong', attrs={'class':'text_num'}).text\n",
        "review_len = int(re.sub('[^0-9]','', review_len))\n",
        "print('상품명:', product_name)\n",
        "print('카테고리:', categories)\n",
        "print('가격:', price)\n",
        "print('모든 리뷰 개수:', review_len)\n",
        "\n",
        "manager = Manager()\n",
        "text = manager.list()\n",
        "score = manager.list()\n",
        "\n",
        "def Crawling(pageNo):\n",
        "    try:\n",
        "        url = 'https://m.11st.co.kr/products/v1/app/products/{}/reviews/list?pageNo={}&sortType=01&pntVals=&rtype=&themeNm='.format(products, pageNo)\n",
        "        response = urlopen(url)\n",
        "        json_data = json.load(response)\n",
        "        for i in range(len(json_data['review']['list'])):\n",
        "            if json_data['review']['list'][i]['subject']:\n",
        "                review = json_data['review']['list'][i]['subject']\n",
        "                score = str(json_data['review']['list'][i]['evlPnt'])\n",
        "                text.append([score, review])\n",
        "    except:\n",
        "        print('리뷰가 끝났습니다. 총 개수:', len(text))\n",
        "\n",
        "if __name__ == '__main__':\n",
        "    start_time = time.time()\n",
        "    pool = Pool(processes=32)\n",
        "    pool.map(Crawling,range(review_len//10 + 1))\n",
        "    pool.close()\n",
        "    pool.join()\n",
        "    print('수집한 리뷰 총 개수: ', len(text)) # 빈 리뷰 제외 한 총 리뷰 개수\n",
        "    print(\"실행 시간 : %s초\" % (time.time() - start_time))"
      ],
      "execution_count": 72,
      "outputs": [
        {
          "output_type": "stream",
          "name": "stdout",
          "text": [
            "상품명: 프레시지 블랙라벨 스테이크 (2인분) 밀키트 쿠킹박스\n",
            "카테고리: {'식품'}\n",
            "가격: 15,680\n",
            "모든 리뷰 개수: 9690\n",
            "수집한 리뷰 총 개수:  7151\n",
            "실행 시간 : 36.577216148376465초\n"
          ]
        }
      ]
    },
    {
      "cell_type": "markdown",
      "metadata": {
        "id": "_1aJ0M_hYqSC"
      },
      "source": [
        "## New Text2Csv\n"
      ]
    },
    {
      "cell_type": "code",
      "metadata": {
        "colab": {
          "base_uri": "https://localhost:8080/",
          "height": 178
        },
        "id": "-ErA60whYpo0",
        "outputId": "e3504751-b996-4374-fb35-050ec87f8c27"
      },
      "source": [
        "import pandas as pd\n",
        "data = pd.DataFrame(list(text), columns=['score','review'])\n",
        "print('리뷰 데이터 총 개수:', len(data))\n",
        "data.drop_duplicates(['review'], inplace=True)\n",
        "data.reset_index(drop=True, inplace=True)\n",
        "print('중복제거 후:', len(data))\n",
        "data.head(3)"
      ],
      "execution_count": 78,
      "outputs": [
        {
          "output_type": "stream",
          "name": "stdout",
          "text": [
            "리뷰 데이터 총 개수: 7151\n",
            "중복제거 후: 6731\n"
          ]
        },
        {
          "output_type": "execute_result",
          "data": {
            "text/html": [
              "<div>\n",
              "<style scoped>\n",
              "    .dataframe tbody tr th:only-of-type {\n",
              "        vertical-align: middle;\n",
              "    }\n",
              "\n",
              "    .dataframe tbody tr th {\n",
              "        vertical-align: top;\n",
              "    }\n",
              "\n",
              "    .dataframe thead th {\n",
              "        text-align: right;\n",
              "    }\n",
              "</style>\n",
              "<table border=\"1\" class=\"dataframe\">\n",
              "  <thead>\n",
              "    <tr style=\"text-align: right;\">\n",
              "      <th></th>\n",
              "      <th>score</th>\n",
              "      <th>review</th>\n",
              "    </tr>\n",
              "  </thead>\n",
              "  <tbody>\n",
              "    <tr>\n",
              "      <th>0</th>\n",
              "      <td>5</td>\n",
              "      <td>좋은 상품을 저렴하게 구입할 수 있어서 좋아요</td>\n",
              "    </tr>\n",
              "    <tr>\n",
              "      <th>1</th>\n",
              "      <td>5</td>\n",
              "      <td>채소가 약간 시들했지만 늘 구매하는 제품이요</td>\n",
              "    </tr>\n",
              "    <tr>\n",
              "      <th>2</th>\n",
              "      <td>5</td>\n",
              "      <td>딜 뜰때마다 구매하는 품목입니다. 맛있게 잘 먹었습니다.</td>\n",
              "    </tr>\n",
              "  </tbody>\n",
              "</table>\n",
              "</div>"
            ],
            "text/plain": [
              "  score                           review\n",
              "0     5        좋은 상품을 저렴하게 구입할 수 있어서 좋아요\n",
              "1     5         채소가 약간 시들했지만 늘 구매하는 제품이요\n",
              "2     5  딜 뜰때마다 구매하는 품목입니다. 맛있게 잘 먹었습니다."
            ]
          },
          "metadata": {},
          "execution_count": 78
        }
      ]
    },
    {
      "cell_type": "code",
      "metadata": {
        "id": "yXGeH5Zr-AFw"
      },
      "source": [
        "#csv로 저장 -> {이름} 리뷰({리뷰개수}개)\n",
        "data.to_csv('{} 리뷰({}개).csv'.format(product_name,len(data)), index=False )"
      ],
      "execution_count": 88,
      "outputs": []
    }
  ]
}