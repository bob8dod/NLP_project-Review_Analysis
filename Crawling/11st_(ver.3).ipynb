{
  "nbformat": 4,
  "nbformat_minor": 0,
  "metadata": {
    "colab": {
      "name": "Crawling_11st.ipynb",
      "provenance": [],
      "collapsed_sections": [],
      "authorship_tag": "ABX9TyPoZhnOCyuTug/S8T5G7+RD",
      "include_colab_link": true
    },
    "kernelspec": {
      "name": "python3",
      "display_name": "Python 3"
    },
    "language_info": {
      "name": "python"
    }
  },
  "cells": [
    {
      "cell_type": "markdown",
      "metadata": {
        "id": "view-in-github",
        "colab_type": "text"
      },
      "source": [
        "<a href=\"https://colab.research.google.com/github/bob8dod/NLP_project-Review_Analysis/blob/main/Crawling/11st_(ver.3).ipynb\" target=\"_parent\"><img src=\"https://colab.research.google.com/assets/colab-badge.svg\" alt=\"Open In Colab\"/></a>"
      ]
    },
    {
      "cell_type": "markdown",
      "metadata": {
        "id": "JE-iwZHrIxKq"
      },
      "source": [
        "## 크롤링(11번가)"
      ]
    },
    {
      "cell_type": "code",
      "metadata": {
        "id": "deqeca1JGyot",
        "colab": {
          "base_uri": "https://localhost:8080/"
        },
        "outputId": "23da4b57-de21-4116-c64c-785679aa207a"
      },
      "source": [
        "import json\n",
        "from urllib.request import urlopen\n",
        "import requests\n",
        "from bs4 import BeautifulSoup\n",
        "import time\n",
        "from multiprocessing import Pool, Manager\n",
        "\n",
        "\n",
        "headers = {'User-Agent': 'Mozilla/5.0 (Windows NT 10.0; Win64; x64) AppleWebKit/537.36 (KHTML, like Gecko) Chrome/92.0.4515.159 Safari/537.36'}\n",
        "products = 2211689236\n",
        "\n",
        "url_basic = 'https://www.11st.co.kr/products/{}'.format(products)\n",
        "data = requests.get(url_basic, headers=headers)\n",
        "soup = BeautifulSoup(data.text, 'html.parser')\n",
        "\n",
        "category_path = soup.find('div', attrs={'class':'c_product_category_path'}).find_all('em', attrs={'class':'selected'})\n",
        "categories = set()\n",
        "for cate in category_path:\n",
        "    categories.add(cate.text)\n",
        "product_name = soup.find('h1', attrs={'class':'title'}).text.strip()\n",
        "img_src = soup.find('div', attrs={'class':'img_full'}).find('img')['src']\n",
        "price = soup.find('ul', attrs={'class':'price_wrap'}).find('span',attrs={'class':'value'}).text\n",
        "print(product_name)\n",
        "print(categories, price)\n",
        "print(img_src)\n",
        "# except: # For Amazon\n",
        "#     name = soup.find('meta',attrs={'property':'og:title'})['content']\n",
        "#     cate_price = soup.find('meta',attrs={'property':'og:description'})['content'].strip()\n",
        "#     img = soup.find('meta',attrs={'property':'og:image'})['content']\n",
        "#     print(name)\n",
        "#     print(cate_price)\n",
        "#     print(img)\n",
        "\n",
        "manager = Manager()\n",
        "text = manager.list()\n",
        "score = manager.list()\n",
        "def Crawling(pageNo):\n",
        "    num = 0\n",
        "    \n",
        "    try:\n",
        "        url = 'https://m.11st.co.kr/products/v1/app/products/{}/reviews/list?pageNo={}&sortType=01&pntVals=&rtype=&themeNm='.format(products, pageNo)\n",
        "        response = urlopen(url)\n",
        "        json_data = json.load(response)\n",
        "        for i in range(len(json_data['review']['list'])):\n",
        "            if json_data['review']['list'][i]['subject']:\n",
        "                num += 1\n",
        "                text.append(''.join([str(num),'|', json_data['review']['list'][i]['subject']]))\n",
        "                score.append(json_data['review']['list'][i]['evlPnt'])\n",
        "    except:\n",
        "        print('리뷰가 끝났습니다. 총 개수:', num)\n",
        "\n",
        "if __name__ == '__main__':\n",
        "    start_time = time.time()\n",
        "    pool = Pool(processes=8) #4개의 프로세스 동시에 작동\n",
        "    pool.map(Crawling,range(1,50)) #title_to_list라는 함수에 1 ~ end까지 10씩늘려가며 인자로 적용\n",
        "    pool.close()\n",
        "    pool.join()\n",
        "    print(len(text))\n",
        "    print(\"실행 시간 : %s초\" % (time.time() - start_time))"
      ],
      "execution_count": 4,
      "outputs": [
        {
          "output_type": "stream",
          "name": "stdout",
          "text": [
            "프레시지 소고기 샤브샤브 (2인분) 밀키트 쿠킹박스\n",
            "{'식품'} 12,520\n",
            "https://cdn.011st.com/11dims/resize/600x600/quality/75/11src/pd/21/6/8/9/2/3/6/OmXUE/2211689236_B.jpg\n",
            "490\n",
            "실행 시간 : 7.451384544372559초\n"
          ]
        }
      ]
    },
    {
      "cell_type": "markdown",
      "metadata": {
        "id": "_1aJ0M_hYqSC"
      },
      "source": [
        "## New Text2Csv\n"
      ]
    },
    {
      "cell_type": "code",
      "metadata": {
        "colab": {
          "base_uri": "https://localhost:8080/",
          "height": 160
        },
        "id": "-ErA60whYpo0",
        "outputId": "a3656b0d-577f-48b7-86c9-10f2fcdbc472"
      },
      "source": [
        "import pandas as pd\n",
        "line = [[r.split('|')[0],r.split('|')[1]] for r in text if len(r.split('|'))>1]\n",
        "data = pd.DataFrame(line, columns=['idx','review'])\n",
        "print(len(data))\n",
        "data.head(3)"
      ],
      "execution_count": 5,
      "outputs": [
        {
          "output_type": "stream",
          "name": "stdout",
          "text": [
            "490\n"
          ]
        },
        {
          "output_type": "execute_result",
          "data": {
            "text/html": [
              "<div>\n",
              "<style scoped>\n",
              "    .dataframe tbody tr th:only-of-type {\n",
              "        vertical-align: middle;\n",
              "    }\n",
              "\n",
              "    .dataframe tbody tr th {\n",
              "        vertical-align: top;\n",
              "    }\n",
              "\n",
              "    .dataframe thead th {\n",
              "        text-align: right;\n",
              "    }\n",
              "</style>\n",
              "<table border=\"1\" class=\"dataframe\">\n",
              "  <thead>\n",
              "    <tr style=\"text-align: right;\">\n",
              "      <th></th>\n",
              "      <th>idx</th>\n",
              "      <th>review</th>\n",
              "    </tr>\n",
              "  </thead>\n",
              "  <tbody>\n",
              "    <tr>\n",
              "      <th>0</th>\n",
              "      <td>1</td>\n",
              "      <td>자주 구매해먹는 샤브샤브 재료도 좋고 맛도 있어요!!</td>\n",
              "    </tr>\n",
              "    <tr>\n",
              "      <th>1</th>\n",
              "      <td>2</td>\n",
              "      <td>저번에도 시켰는데 맛있어서 또 구매했어요</td>\n",
              "    </tr>\n",
              "    <tr>\n",
              "      <th>2</th>\n",
              "      <td>3</td>\n",
              "      <td>지난번에 사봤는데 맛이 괜찮아서 다시 주문합니다.</td>\n",
              "    </tr>\n",
              "  </tbody>\n",
              "</table>\n",
              "</div>"
            ],
            "text/plain": [
              "  idx                         review\n",
              "0   1  자주 구매해먹는 샤브샤브 재료도 좋고 맛도 있어요!!\n",
              "1   2         저번에도 시켰는데 맛있어서 또 구매했어요\n",
              "2   3    지난번에 사봤는데 맛이 괜찮아서 다시 주문합니다."
            ]
          },
          "metadata": {},
          "execution_count": 5
        }
      ]
    },
    {
      "cell_type": "code",
      "metadata": {
        "id": "yXGeH5Zr-AFw"
      },
      "source": [
        ""
      ],
      "execution_count": 5,
      "outputs": []
    }
  ]
}