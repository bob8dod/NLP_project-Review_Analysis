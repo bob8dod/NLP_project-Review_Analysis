{
  "nbformat": 4,
  "nbformat_minor": 0,
  "metadata": {
    "colab": {
      "name": "Crawling_11st.ipynb",
      "provenance": [],
      "collapsed_sections": [],
      "authorship_tag": "ABX9TyP66gFcSK2kKLBmI1PwiMQ8",
      "include_colab_link": true
    },
    "kernelspec": {
      "name": "python3",
      "display_name": "Python 3"
    },
    "language_info": {
      "name": "python"
    }
  },
  "cells": [
    {
      "cell_type": "markdown",
      "metadata": {
        "id": "view-in-github",
        "colab_type": "text"
      },
      "source": [
        "<a href=\"https://colab.research.google.com/github/bob8dod/NLP_project-Review_Analysis/blob/main/Crawling/Crawling_for_reviews.ipynb\" target=\"_parent\"><img src=\"https://colab.research.google.com/assets/colab-badge.svg\" alt=\"Open In Colab\"/></a>"
      ]
    },
    {
      "cell_type": "markdown",
      "metadata": {
        "id": "JE-iwZHrIxKq"
      },
      "source": [
        "## 크롤링(11번가)"
      ]
    },
    {
      "cell_type": "code",
      "metadata": {
        "id": "deqeca1JGyot",
        "colab": {
          "base_uri": "https://localhost:8080/"
        },
        "outputId": "30eadce1-0b36-455e-8fff-10009ce6f93c"
      },
      "source": [
        "import json\n",
        "from urllib.request import urlopen\n",
        "import requests\n",
        "from bs4 import BeautifulSoup\n",
        "import time\n",
        "from multiprocessing import Pool, Manager\n",
        "\n",
        "\n",
        "headers = {'User-Agent': 'Mozilla/5.0 (Windows NT 10.0; Win64; x64) AppleWebKit/537.36 (KHTML, like Gecko) Chrome/92.0.4515.159 Safari/537.36'}\n",
        "products = 2211689236\n",
        "\n",
        "url_basic = 'https://www.11st.co.kr/products/{}'.format(products)\n",
        "data = requests.get(url_basic, headers=headers)\n",
        "soup = BeautifulSoup(data.text, 'html.parser')\n",
        "\n",
        "category_path = soup.find('div', attrs={'class':'c_product_category_path'}).find_all('em', attrs={'class':'selected'})\n",
        "categories = set()\n",
        "for cate in category_path:\n",
        "    categories.add(cate.text)\n",
        "product_name = soup.find('h1', attrs={'class':'title'}).text.strip()\n",
        "img_src = soup.find('div', attrs={'class':'img_full'}).find('img')['src']\n",
        "price = soup.find('ul', attrs={'class':'price_wrap'}).find('span',attrs={'class':'value'}).text\n",
        "\n",
        "manager = Manager()\n",
        "text = manager.list()\n",
        "score = manager.list()\n",
        "\n",
        "def Crawling(pageNo):\n",
        "    try:\n",
        "        url = 'https://m.11st.co.kr/products/v1/app/products/{}/reviews/list?pageNo={}&sortType=01&pntVals=&rtype=&themeNm='.format(products, pageNo)\n",
        "        response = urlopen(url)\n",
        "        json_data = json.load(response)\n",
        "        for i in range(len(json_data['review']['list'])):\n",
        "            if json_data['review']['list'][i]['subject']:\n",
        "                text.append(''.join([str(pageNo),'|', json_data['review']['list'][i]['subject']]))\n",
        "                score.append(json_data['review']['list'][i]['evlPnt'])\n",
        "    except:\n",
        "        print('리뷰가 끝났습니다. 총 개수:', num)\n",
        "\n",
        "if __name__ == '__main__':\n",
        "    start_time = time.time()\n",
        "    pool = Pool(processes=32)\n",
        "    pool.map(Crawling,range(20))\n",
        "    pool.close()\n",
        "    pool.join()\n",
        "    print('상품명:', product_name)\n",
        "    print('카테고리:', categories)\n",
        "    print('가격:', price)\n",
        "    print('수집한 리뷰 총 개수: ', len(text))\n",
        "    print(\"실행 시간 : %s초\" % (time.time() - start_time))"
      ],
      "execution_count": 1,
      "outputs": [
        {
          "output_type": "stream",
          "name": "stdout",
          "text": [
            "상품명: 프레시지 소고기 샤브샤브 (2인분) 밀키트 쿠킹박스\n",
            "카테고리: {'식품'}\n",
            "가격: 12,520\n",
            "수집한 리뷰 총 개수:  190\n",
            "실행 시간 : 1.927903413772583초\n"
          ]
        }
      ]
    },
    {
      "cell_type": "markdown",
      "metadata": {
        "id": "_1aJ0M_hYqSC"
      },
      "source": [
        "## New Text2Csv\n"
      ]
    },
    {
      "cell_type": "code",
      "metadata": {
        "colab": {
          "base_uri": "https://localhost:8080/",
          "height": 160
        },
        "id": "-ErA60whYpo0",
        "outputId": "830e263f-2805-46f6-8536-cbb6c2a525fa"
      },
      "source": [
        "import pandas as pd\n",
        "line = [[r.split('|')[0],r.split('|')[1]] for r in text if len(r.split('|'))>1]\n",
        "data = pd.DataFrame(line, columns=['pageNo','review'])\n",
        "print('리뷰데이터 총 길이: ', len(data))\n",
        "data.head(3)"
      ],
      "execution_count": 4,
      "outputs": [
        {
          "output_type": "stream",
          "name": "stdout",
          "text": [
            "리뷰데이터 총 길이:  190\n"
          ]
        },
        {
          "output_type": "execute_result",
          "data": {
            "text/html": [
              "<div>\n",
              "<style scoped>\n",
              "    .dataframe tbody tr th:only-of-type {\n",
              "        vertical-align: middle;\n",
              "    }\n",
              "\n",
              "    .dataframe tbody tr th {\n",
              "        vertical-align: top;\n",
              "    }\n",
              "\n",
              "    .dataframe thead th {\n",
              "        text-align: right;\n",
              "    }\n",
              "</style>\n",
              "<table border=\"1\" class=\"dataframe\">\n",
              "  <thead>\n",
              "    <tr style=\"text-align: right;\">\n",
              "      <th></th>\n",
              "      <th>pageNo</th>\n",
              "      <th>review</th>\n",
              "    </tr>\n",
              "  </thead>\n",
              "  <tbody>\n",
              "    <tr>\n",
              "      <th>0</th>\n",
              "      <td>10</td>\n",
              "      <td>언제 먹어도 질리지 않네요. 야채 추가로 넘 배부르게 먹었어요. 개인적으로 칼국수도...</td>\n",
              "    </tr>\n",
              "    <tr>\n",
              "      <th>1</th>\n",
              "      <td>10</td>\n",
              "      <td>3번째 구매예요~~우리아들이 샤브샤브를좋아해서 가끔 노래를 부르는데 밖에나가서 먹는...</td>\n",
              "    </tr>\n",
              "    <tr>\n",
              "      <th>2</th>\n",
              "      <td>10</td>\n",
              "      <td>배송은 예정일보다 하루 늦었지만 야채랑 고기랑 신선하고 좋아서 맛있게 잘 먹었어요....</td>\n",
              "    </tr>\n",
              "  </tbody>\n",
              "</table>\n",
              "</div>"
            ],
            "text/plain": [
              "  pageNo                                             review\n",
              "0     10  언제 먹어도 질리지 않네요. 야채 추가로 넘 배부르게 먹었어요. 개인적으로 칼국수도...\n",
              "1     10  3번째 구매예요~~우리아들이 샤브샤브를좋아해서 가끔 노래를 부르는데 밖에나가서 먹는...\n",
              "2     10  배송은 예정일보다 하루 늦었지만 야채랑 고기랑 신선하고 좋아서 맛있게 잘 먹었어요...."
            ]
          },
          "metadata": {},
          "execution_count": 4
        }
      ]
    },
    {
      "cell_type": "code",
      "metadata": {
        "id": "yXGeH5Zr-AFw"
      },
      "source": [
        "#csv로 저장 -> {이름} 리뷰({리뷰개수}개)\n",
        "data.to_csv('{} 리뷰({}개).csv'.format(product_name,len(data)), index=False )"
      ],
      "execution_count": 10,
      "outputs": []
    }
  ]
}